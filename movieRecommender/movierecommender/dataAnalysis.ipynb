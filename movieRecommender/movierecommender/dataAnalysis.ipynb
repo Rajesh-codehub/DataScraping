{
 "cells": [
  {
   "cell_type": "code",
   "execution_count": 52,
   "metadata": {},
   "outputs": [
    {
     "name": "stderr",
     "output_type": "stream",
     "text": [
      "/tmp/ipykernel_3977/3326977857.py:32: SettingWithCopyWarning: \n",
      "A value is trying to be set on a copy of a slice from a DataFrame\n",
      "\n",
      "See the caveats in the documentation: https://pandas.pydata.org/pandas-docs/stable/user_guide/indexing.html#returning-a-view-versus-a-copy\n",
      "  df_filtered.drop('Year',axis=1,inplace=True)\n"
     ]
    },
    {
     "data": {
      "text/plain": [
       "movieName    972\n",
       "Year         972\n",
       "Director     972\n",
       "genre        972\n",
       "Rating       972\n",
       "Duration     972\n",
       "Plot         972\n",
       "dtype: int64"
      ]
     },
     "execution_count": 52,
     "metadata": {},
     "output_type": "execute_result"
    }
   ],
   "source": [
    "import pandas as pd\n",
    "\n",
    "\n",
    "file_path = \"/home/razz/Rajesh/movieRecommeder/movieRecommender/dataFiles/Topmovies.csv\"\n",
    "\n",
    "df = pd.read_csv(file_path)\n",
    "df.dropna(inplace=True)\n",
    "indices = df.index\n",
    "\n",
    "df_filtered = df[df['Year'].apply(lambda x: len(str(x))>4)]\n",
    "df_final = df.drop(indices[df_filtered.index])\n",
    "\n",
    "years = df_filtered['Year'].tolist()\n",
    "modified_years = []\n",
    "for year in years:\n",
    "    cleaned = \"\".join(filter(str.isdigit,year))\n",
    "    modified_years.append(cleaned)\n",
    "final_year = []\n",
    "for year in modified_years:\n",
    "    if len(year)>4:\n",
    "        yearPro = year[0:4]\n",
    "        final_year.append(yearPro)\n",
    "    else:\n",
    "        final_year.append(year)\n",
    "df_filtered.drop('Year',axis=1,inplace=True)\n",
    "df_filtered.insert(1,'Year',final_year)\n",
    "indices_to_drop = df_final.index[df_final.index.isin(df_filtered.index)]\n",
    "df_final  = df_final.drop(indices_to_drop)\n",
    "df_filtered2 = df_final[df_final['Year'].apply(lambda x: len(str(x))>4)]\n",
    "df_concat = pd.concat([df_final,df_filtered])\n",
    "df_concat.count()\n",
    "\n"
   ]
  },
  {
   "cell_type": "code",
   "execution_count": 53,
   "metadata": {},
   "outputs": [
    {
     "name": "stdout",
     "output_type": "stream",
     "text": [
      "<class 'pandas.core.frame.DataFrame'>\n",
      "Index: 972 entries, 0 to 989\n",
      "Data columns (total 7 columns):\n",
      " #   Column     Non-Null Count  Dtype  \n",
      "---  ------     --------------  -----  \n",
      " 0   movieName  972 non-null    object \n",
      " 1   Year       972 non-null    object \n",
      " 2   Director   972 non-null    object \n",
      " 3   genre      972 non-null    object \n",
      " 4   Rating     972 non-null    float64\n",
      " 5   Duration   972 non-null    object \n",
      " 6   Plot       972 non-null    object \n",
      "dtypes: float64(1), object(6)\n",
      "memory usage: 60.8+ KB\n"
     ]
    }
   ],
   "source": [
    "df_concat.info()"
   ]
  },
  {
   "cell_type": "code",
   "execution_count": 57,
   "metadata": {},
   "outputs": [],
   "source": [
    "output_path = \"/home/razz/Rajesh/movieRecommeder/movieRecommender/dataFiles/Top_moviesPro.csv\"\n",
    "df_concat.to_csv(output_path,index=False)"
   ]
  },
  {
   "cell_type": "code",
   "execution_count": null,
   "metadata": {},
   "outputs": [],
   "source": []
  }
 ],
 "metadata": {
  "kernelspec": {
   "display_name": "movierecommender--sdilvJV-py3.10",
   "language": "python",
   "name": "python3"
  },
  "language_info": {
   "codemirror_mode": {
    "name": "ipython",
    "version": 3
   },
   "file_extension": ".py",
   "mimetype": "text/x-python",
   "name": "python",
   "nbconvert_exporter": "python",
   "pygments_lexer": "ipython3",
   "version": "3.10.12"
  }
 },
 "nbformat": 4,
 "nbformat_minor": 2
}
