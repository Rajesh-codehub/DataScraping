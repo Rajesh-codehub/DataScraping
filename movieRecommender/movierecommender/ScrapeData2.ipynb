{
 "cells": [
  {
   "cell_type": "code",
   "execution_count": 9,
   "metadata": {},
   "outputs": [
    {
     "name": "stdout",
     "output_type": "stream",
     "text": [
      "The URL https://www.flipkart.com/audio-video/pr?sid=0pm&otracker=categorytree&fm=neo%2Fmerchandising&iid=M_2d92caf1-203a-4135-bb66-cdf644c61daf_1_372UD5BXDFYS_MC.9JGNW7M0TUHD&otracker=hp_rich_navigation_1_1.navigationCard.RICH_NAVIGATION_Electronics~Audio~All_9JGNW7M0TUHD&otracker1=hp_rich_navigation_PINNED_neo%2Fmerchandising_NA_NAV_EXPANDABLE_navigationCard_cc_1_L2_view-all&cid=9JGNW7M0TUHD is accessible.\n"
     ]
    }
   ],
   "source": [
    "import requests\n",
    "\n",
    "def check_url_accessibility(url):\n",
    "    try:\n",
    "        response = requests.head(url, timeout=5)\n",
    "        # Check if the response status code indicates success (2xx)\n",
    "        if response.status_code < 400:\n",
    "            print(f\"The URL {url} is accessible.\")\n",
    "        else:\n",
    "            print(f\"The URL {url} is not accessible. Status code: {response.status_code}\")\n",
    "    except requests.RequestException as e:\n",
    "        print(f\"Error accessing the URL {url}: {e}\")\n",
    "\n",
    "# Example usage\n",
    "url_to_check = \"https://www.flipkart.com/audio-video/pr?sid=0pm&otracker=categorytree&fm=neo%2Fmerchandising&iid=M_2d92caf1-203a-4135-bb66-cdf644c61daf_1_372UD5BXDFYS_MC.9JGNW7M0TUHD&otracker=hp_rich_navigation_1_1.navigationCard.RICH_NAVIGATION_Electronics~Audio~All_9JGNW7M0TUHD&otracker1=hp_rich_navigation_PINNED_neo%2Fmerchandising_NA_NAV_EXPANDABLE_navigationCard_cc_1_L2_view-all&cid=9JGNW7M0TUHD\"\n",
    "check_url_accessibility(url_to_check)\n"
   ]
  },
  {
   "cell_type": "code",
   "execution_count": 13,
   "metadata": {},
   "outputs": [
    {
     "name": "stdout",
     "output_type": "stream",
     "text": [
      "An Error Occured:  ResultSet object has no attribute 'text'. You're probably treating a list of elements like a single element. Did you call find_all() when you meant to call find()?\n"
     ]
    }
   ],
   "source": [
    "import requests\n",
    "from bs4 import BeautifulSoup\n",
    "\n",
    "try:\n",
    "    response = requests.get(url_to_check)\n",
    "\n",
    "    if response.status_code == 200:\n",
    "        soup = BeautifulSoup(response.text, 'html.parser')\n",
    "        paras = soup.findAll('div',class_ = \"_36fx1h _6t1WkM _3HqJxg\").text\n",
    "        print(paras)\n",
    "except Exception as e:\n",
    "    print(f\"An Error Occured:  {e}\")\n",
    "\n"
   ]
  },
  {
   "cell_type": "code",
   "execution_count": null,
   "metadata": {},
   "outputs": [],
   "source": []
  }
 ],
 "metadata": {
  "kernelspec": {
   "display_name": "movierecommender--sdilvJV-py3.10",
   "language": "python",
   "name": "python3"
  },
  "language_info": {
   "codemirror_mode": {
    "name": "ipython",
    "version": 3
   },
   "file_extension": ".py",
   "mimetype": "text/x-python",
   "name": "python",
   "nbconvert_exporter": "python",
   "pygments_lexer": "ipython3",
   "version": "3.10.12"
  }
 },
 "nbformat": 4,
 "nbformat_minor": 2
}
